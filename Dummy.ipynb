import os

def CheckIfAlreadyProcessed(searchkeyword):
    filesprocessedalready = os.listdir('Data/'+'/JSON/')
    alreadyprocessed = [int(f.split('_')[1].split('.')[0]) for f in filesprocessedalready if searchkeyword in f]
    max_id_curr_search = min(alreadyprocessed)
    countalreadyprocessed = len(alreadyprocessed)
    return countalreadyprocessed, max_id_curr_search

CheckIfAlreadyProcessed("#war")
